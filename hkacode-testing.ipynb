{
 "cells": [
  {
   "cell_type": "markdown",
   "metadata": {},
   "source": [
    "# Check The Status of Model\n",
    "Memeriksa status model yang telah dideploy pada server."
   ]
  },
  {
   "cell_type": "code",
   "execution_count": 1,
   "metadata": {},
   "outputs": [
    {
     "name": "stdout",
     "output_type": "stream",
     "text": [
      "{'model_version_status': [{'state': 'AVAILABLE',\n",
      "                           'status': {'error_code': 'OK', 'error_message': ''},\n",
      "                           'version': '1'}]}\n"
     ]
    }
   ],
   "source": [
    "import requests\n",
    "from pprint import PrettyPrinter\n",
    " \n",
    "pp = PrettyPrinter()\n",
    "pp.pprint(requests.get(\"https://hoax-model-production.up.railway.app/v1/models/hoax-model\").json())"
   ]
  },
  {
   "cell_type": "markdown",
   "metadata": {},
   "source": [
    "# Make Prediction Request"
   ]
  },
  {
   "cell_type": "markdown",
   "metadata": {},
   "source": [
    "## Import Library\n",
    "Mengimpor library yang dibutuhkan untuk membuat permintaan prediksi."
   ]
  },
  {
   "cell_type": "code",
   "execution_count": 2,
   "metadata": {},
   "outputs": [],
   "source": [
    "import requests\n",
    "import tensorflow as tf\n",
    "import base64"
   ]
  },
  {
   "cell_type": "markdown",
   "metadata": {},
   "source": [
    "## Make functions for transform text\n",
    "Membuat fungsi untuk mengubah teks menjadi format yang sesuai untuk input model."
   ]
  },
  {
   "cell_type": "code",
   "execution_count": 3,
   "metadata": {},
   "outputs": [],
   "source": [
    "def _bytes_feature(value):\n",
    "    return tf.train.Feature(bytes_list=tf.train.BytesList(value=[value]))\n",
    "\n",
    "def serialize_text(text):\n",
    "    example = tf.train.Example(features=tf.train.Features(feature={\n",
    "        'narasi': _bytes_feature(text)\n",
    "        }))\n",
    "    serialized_example = example.SerializeToString()\n",
    "    return serialized_example"
   ]
  },
  {
   "cell_type": "markdown",
   "metadata": {},
   "source": [
    "## Make function for predict\n",
    "Mendefinisikan URL server model dan membuat fungsi untuk melakukan prediksi dengan menggunakan model yang telah dideploy."
   ]
  },
  {
   "cell_type": "code",
   "execution_count": 4,
   "metadata": {},
   "outputs": [],
   "source": [
    "model_server_url = 'https://hoax-model-production.up.railway.app/v1/models/hoax-model:predict'\n",
    "\n",
    "def predict(text):\n",
    "    example = serialize_text(text)\n",
    "    json_data = {\n",
    "      \"signature_name\":\"serving_default\",\n",
    "      \"instances\":[\n",
    "        {\n",
    "          \"examples\":{\"b64\": base64.b64encode(example).decode('utf-8')}\n",
    "        }\n",
    "      ]\n",
    "    }\n",
    "    resp = requests.post(model_server_url, json=json_data)\n",
    "    if resp.status_code != 200:\n",
    "        print(f\"Error: {resp.status_code} - {resp.text}\")\n",
    "    return resp.json()"
   ]
  },
  {
   "cell_type": "markdown",
   "metadata": {},
   "source": [
    "## Test Predictions\n",
    "Menyiapkan beberapa teks untuk diuji dan memanggil fungsi prediksi untuk mengevaluasi apakah teks tersebut terdeteksi sebagai Hoax atau tidak."
   ]
  },
  {
   "cell_type": "code",
   "execution_count": 5,
   "metadata": {},
   "outputs": [
    {
     "name": "stdout",
     "output_type": "stream",
     "text": [
      "Score Prediction : 0.991513848\n",
      "Kalimat : 'Saya Harry Mardika akan maju menjadi Presiden Indonesia Emas 2045'\n",
      "Terdeteksi sebagai Hoax\n",
      "\n",
      "Score Prediction : 0.176164046\n",
      "Kalimat : 'Presiden Jokowi mengadakan kunjungan kerja '\n",
      "Tidak terdeteksi sebagai Hoax\n",
      "\n"
     ]
    }
   ],
   "source": [
    "texts = [b'Saya Harry Mardika akan maju menjadi Presiden Indonesia Emas 2045', # HOAX\n",
    "        b'Presiden Jokowi mengadakan kunjungan kerja '] # NOT HOAX\n",
    "\n",
    "for text in texts:\n",
    "    pred = predict(text)\n",
    "    decoded_text = text.decode('utf-8')\n",
    "    if pred['predictions'][0][0] > 0.5:\n",
    "        print('Score Prediction :',pred['predictions'][0][0])\n",
    "        print(f\"Kalimat : '{decoded_text}'\")\n",
    "        print('Terdeteksi sebagai Hoax\\n')\n",
    "    else:\n",
    "        print('Score Prediction :',pred['predictions'][0][0])\n",
    "        print(f\"Kalimat : '{decoded_text}'\")\n",
    "        print('Tidak terdeteksi sebagai Hoax\\n')\n"
   ]
  }
 ],
 "metadata": {
  "kernelspec": {
   "display_name": "mlops-tfx",
   "language": "python",
   "name": "python3"
  },
  "language_info": {
   "codemirror_mode": {
    "name": "ipython",
    "version": 3
   },
   "file_extension": ".py",
   "mimetype": "text/x-python",
   "name": "python",
   "nbconvert_exporter": "python",
   "pygments_lexer": "ipython3",
   "version": "3.9.19"
  }
 },
 "nbformat": 4,
 "nbformat_minor": 2
}
