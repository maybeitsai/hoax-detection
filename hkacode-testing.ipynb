{
 "cells": [
  {
   "cell_type": "markdown",
   "metadata": {},
   "source": [
    "# Check The Status of Model\n",
    "Memeriksa status model yang telah dideploy pada server."
   ]
  },
  {
   "cell_type": "code",
   "execution_count": 10,
   "metadata": {},
   "outputs": [
    {
     "name": "stdout",
     "output_type": "stream",
     "text": [
      "{'model_version_status': [{'state': 'AVAILABLE',\n",
      "                           'status': {'error_code': 'OK', 'error_message': ''},\n",
      "                           'version': '1'}]}\n"
     ]
    }
   ],
   "source": [
    "import requests\n",
    "from pprint import PrettyPrinter\n",
    " \n",
    "pp = PrettyPrinter()\n",
    "pp.pprint(requests.get(\"http://localhost:8080/v1/models/hoax-detection-model\").json())"
   ]
  },
  {
   "cell_type": "markdown",
   "metadata": {},
   "source": [
    "# Make Prediction Request"
   ]
  },
  {
   "cell_type": "markdown",
   "metadata": {},
   "source": [
    "## Import Library\n",
    "Mengimpor library yang dibutuhkan untuk membuat permintaan prediksi."
   ]
  },
  {
   "cell_type": "code",
   "execution_count": 11,
   "metadata": {},
   "outputs": [],
   "source": [
    "import requests\n",
    "import tensorflow as tf\n",
    "import base64"
   ]
  },
  {
   "cell_type": "markdown",
   "metadata": {},
   "source": [
    "## Make functions for transform text\n",
    "Membuat fungsi untuk mengubah teks menjadi format yang sesuai untuk input model."
   ]
  },
  {
   "cell_type": "code",
   "execution_count": 12,
   "metadata": {},
   "outputs": [],
   "source": [
    "def _bytes_feature(value):\n",
    "    return tf.train.Feature(bytes_list=tf.train.BytesList(value=[value]))\n",
    "\n",
    "def serialize_text(text):\n",
    "    example = tf.train.Example(features=tf.train.Features(feature={\n",
    "        'text_new': _bytes_feature(text)\n",
    "        }))\n",
    "    serialized_example = example.SerializeToString()\n",
    "    return serialized_example"
   ]
  },
  {
   "cell_type": "markdown",
   "metadata": {},
   "source": [
    "## Make function for predict\n",
    "Mendefinisikan URL server model dan membuat fungsi untuk melakukan prediksi dengan menggunakan model yang telah dideploy."
   ]
  },
  {
   "cell_type": "code",
   "execution_count": 15,
   "metadata": {},
   "outputs": [],
   "source": [
    "model_server_url = 'http://localhost:8080/v1/models/hoax-detection-model:predict'\n",
    "\n",
    "def predict(text):\n",
    "    example = serialize_text(text)\n",
    "    json_data = {\n",
    "      \"signature_name\":\"serving_default\",\n",
    "      \"instances\":[\n",
    "        {\n",
    "          \"examples\":{\"b64\": base64.b64encode(example).decode('utf-8')}\n",
    "        }\n",
    "      ]\n",
    "    }\n",
    "    resp = requests.post(model_server_url, json=json_data)\n",
    "    return resp.json()"
   ]
  },
  {
   "cell_type": "markdown",
   "metadata": {},
   "source": [
    "## Test Predictions\n",
    "Menyiapkan beberapa teks untuk diuji dan memanggil fungsi prediksi untuk mengevaluasi apakah teks tersebut terdeteksi sebagai XSS atau tidak."
   ]
  },
  {
   "cell_type": "code",
   "execution_count": 19,
   "metadata": {},
   "outputs": [
    {
     "name": "stdout",
     "output_type": "stream",
     "text": [
      "{'predictions': [[1.41592628e-19]]}\n",
      "Score Prediction : 1.41592628e-19\n",
      "Hoax Not Detected\n",
      "\n",
      "{'predictions': [[1.43096727e-19]]}\n",
      "Score Prediction : 1.43096727e-19\n",
      "Hoax Not Detected\n",
      "\n"
     ]
    }
   ],
   "source": [
    "texts = [b'saya menjadi presiden amerika', # not XSS\n",
    "        b'jokowi mengadakan kunjungan kerja'] # XSS\n",
    "\n",
    "for text in texts:\n",
    "    pred = predict(text)\n",
    "    print(pred)\n",
    "    if pred['predictions'][0][0] > 0.5:\n",
    "        print('Score Prediction :',pred['predictions'][0][0])\n",
    "        print(\"Hoax Detected\\n\")\n",
    "    else:\n",
    "        print('Score Prediction :',pred['predictions'][0][0])\n",
    "        print(\"Hoax Not Detected\\n\")\n"
   ]
  }
 ],
 "metadata": {
  "kernelspec": {
   "display_name": "mlops-tfx",
   "language": "python",
   "name": "python3"
  },
  "language_info": {
   "codemirror_mode": {
    "name": "ipython",
    "version": 3
   },
   "file_extension": ".py",
   "mimetype": "text/x-python",
   "name": "python",
   "nbconvert_exporter": "python",
   "pygments_lexer": "ipython3",
   "version": "3.9.19"
  }
 },
 "nbformat": 4,
 "nbformat_minor": 2
}
